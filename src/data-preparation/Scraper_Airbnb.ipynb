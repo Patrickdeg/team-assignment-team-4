{
 "cells": [
  {
   "cell_type": "code",
   "execution_count": 14,
   "id": "6bc8fad4",
   "metadata": {},
   "outputs": [],
   "source": [
    "from bs4 import BeautifulSoup\n",
    "from time import sleep\n",
    "import pandas as pd\n"
   ]
  },
  {
   "cell_type": "code",
   "execution_count": 8,
   "id": "2538fb59",
   "metadata": {},
   "outputs": [
    {
     "name": "stderr",
     "output_type": "stream",
     "text": [
      "C:\\Users\\casro\\AppData\\Local\\Temp\\ipykernel_19448\\3140940132.py:11: DeprecationWarning: executable_path has been deprecated, please pass in a Service object\n",
      "  driver = webdriver.Chrome(ChromeDriverManager().install())\n"
     ]
    }
   ],
   "source": [
    "#!pip install webdriver_manager\n",
    "#!pip install selenium\n",
    "\n",
    "from selenium import webdriver\n",
    "from selenium.webdriver.chrome.options import Options\n",
    "from webdriver_manager.chrome import ChromeDriverManager\n",
    "\n",
    "driver = webdriver.Chrome(ChromeDriverManager().install())\n",
    "\n",
    "inside_airbnb_url= \"http://insideairbnb.com/get-the-data.html\"\n",
    "driver.get(inside_airbnb_url)\n"
   ]
  },
  {
   "cell_type": "code",
   "execution_count": 15,
   "id": "403bdb28",
   "metadata": {},
   "outputs": [
    {
     "ename": "SyntaxError",
     "evalue": "invalid syntax (504889505.py, line 8)",
     "output_type": "error",
     "traceback": [
      "\u001b[1;36m  Input \u001b[1;32mIn [15]\u001b[1;36m\u001b[0m\n\u001b[1;33m    tmp_url = cities_list[city].find(\"a\").get('href') identifier = identifier_list[city].text #Get the identifier that corresponds to this city (i.e. the city, state/province, country variable)\u001b[0m\n\u001b[1;37m                                                      ^\u001b[0m\n\u001b[1;31mSyntaxError\u001b[0m\u001b[1;31m:\u001b[0m invalid syntax\n"
     ]
    }
   ],
   "source": [
    "\n",
    "res = driver.page_source \n",
    "soup = BeautifulSoup(res, features=\"html.parser\") \n",
    "cities_list=soup.find_all('tbody') \n",
    "identifier_list=soup.find_all('h3') \n",
    "\n",
    "city_data=[] \n",
    "for city in range(len(cities_list)):\n",
    "    tmp_url = cities_list[city].find(\"a\").get('href') \n",
    "    identifier = identifier_list[city].text \n",
    "    country = identifier.split(\",\",3)[-1] \n",
    "    city = identifier.split(\",\",3)[0] \n",
    "    \n",
    "    city_info = {\"Country\": country, \"City\": city ,\"Link\": tmp_url}\n",
    "    \n",
    "    city_data.append(city_info) \n",
    "\n",
    "\n",
    "(pd.DataFrame(city_data)).to_csv(\"Airbnb_listing_urls.csv\", index=False, sep=';') "
   ]
  },
  {
   "cell_type": "code",
   "execution_count": null,
   "id": "feaa31b5",
   "metadata": {},
   "outputs": [],
   "source": []
  }
 ],
 "metadata": {
  "kernelspec": {
   "display_name": "Python 3 (ipykernel)",
   "language": "python",
   "name": "python3"
  },
  "language_info": {
   "codemirror_mode": {
    "name": "ipython",
    "version": 3
   },
   "file_extension": ".py",
   "mimetype": "text/x-python",
   "name": "python",
   "nbconvert_exporter": "python",
   "pygments_lexer": "ipython3",
   "version": "3.9.12"
  }
 },
 "nbformat": 4,
 "nbformat_minor": 5
}
